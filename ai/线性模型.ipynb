{
 "cells": [
  {
   "cell_type": "code",
   "execution_count": null,
   "metadata": {},
   "outputs": [],
   "source": [
    "import numpy as np\n",
    "import matplotlib.pyplot as plt\n",
    "from sklearn.linear_model import LinearRegression, LogisticRegression\n",
    "from sklearn.datasets import make_regression, make_classification\n",
    "\n",
    "# 测试导入是否成功\n",
    "print(\"NumPy version:\", np.__version__)\n",
    "print(\"Matplotlib version:\", plt.__version__)"
   ]
  },
  {
   "cell_type": "markdown",
   "metadata": {},
   "source": [
    "洗完漱"
   ]
  },
  {
   "cell_type": "code",
   "execution_count": null,
   "metadata": {},
   "outputs": [],
   "source": [
    "# 1. 线性回归模型\n",
    "def linear_regression_tutorial():\n",
    "    \"\"\"\n",
    "    线性回归模型教学示例\n",
    "    原理：通过最小化预测值与实际值之间的均方误差来找到最佳的线性关系\n",
    "    \"\"\"\n",
    "    # 生成示例数据\n",
    "    X, y = make_regression(n_samples=100, n_features=1, noise=10, random_state=42)\n",
    "    \n",
    "    # 创建并训练模型\n",
    "    model = LinearRegression()\n",
    "    model.fit(X, y)\n",
    "    \n",
    "    # 预测\n",
    "    y_pred = model.predict(X)\n",
    "    \n",
    "    # 可视化\n",
    "    plt.figure(figsize=(10, 6))\n",
    "    plt.scatter(X, y, color='blue', label='实际数据')\n",
    "    plt.plot(X, y_pred, color='red', label='预测线')\n",
    "    plt.title('线性回归示例')\n",
    "    plt.xlabel('特征 X')\n",
    "    plt.ylabel('目标变量 y')\n",
    "    plt.legend()\n",
    "    plt.show()\n",
    "    \n",
    "    print(f\"模型斜率: {model.coef_[0]:.2f}\")\n",
    "    print(f\"模型截距: {model.intercept_:.2f}\")\n"
   ]
  },
  {
   "cell_type": "code",
   "execution_count": null,
   "metadata": {},
   "outputs": [],
   "source": [
    " #1. 线性回归模型\n",
    "def linear_regression_tutorial():\n",
    "    \"\"\"\n",
    "    线性回归模型教学示例\n",
    "    原理：通过最小化预测值与实际值之间的均方误差来找到最佳的线性关系\n",
    "    \"\"\"\n",
    "    # 生成示例数据\n",
    "    X, y = make_regression(n_samples=100, n_features=1, noise=10, random_state=42)\n",
    "    \n",
    "    # 创建并训练模型\n",
    "    model = LinearRegression()\n",
    "    model.fit(X, y)\n",
    "    \n",
    "    # 预测\n",
    "    y_pred = model.predict(X)\n",
    "    \n",
    "    # 可视化\n",
    "    plt.figure(figsize=(10, 6))\n",
    "    plt.scatter(X, y, color='blue', label='实际数据')\n",
    "    plt.plot(X, y_pred, color='red', label='预测线')\n",
    "    plt.title('线性回归示例')\n",
    "    plt.xlabel('特征 X')\n",
    "    plt.ylabel('目标变量 y')\n",
    "    plt.legend()\n",
    "    plt.show()\n",
    "    \n",
    "    print(f\"模型斜率: {model.coef_[0]:.2f}\")\n",
    "    print(f\"模型截距: {model.intercept_:.2f}\")"
   ]
  },
  {
   "cell_type": "code",
   "execution_count": null,
   "metadata": {},
   "outputs": [],
   "source": [
    "#2. 逻辑回归模型\n",
    "def logistic_regression_tutorial():\n",
    "    \"\"\"\n",
    "    逻辑回归模型教学示例\n",
    "    原理：通过sigmoid函数将线性模型的输出转换为概率，用于分类问题\n",
    "    \"\"\"\n",
    "    # 生成示例数据\n",
    "    X, y = make_classification(n_samples=100, n_features=2, n_redundant=0, \n",
    "                             n_informative=2, random_state=42)\n",
    "    \n",
    "    # 创建并训练模型\n",
    "    model = LogisticRegression()\n",
    "    model.fit(X, y)\n",
    "    \n",
    "    # 创建网格点进行可视化\n",
    "    x_min, x_max = X[:, 0].min() - 1, X[:, 0].max() + 1\n",
    "    y_min, y_max = X[:, 1].min() - 1, X[:, 1].max() + 1\n",
    "    xx, yy = np.meshgrid(np.arange(x_min, x_max, 0.1),\n",
    "                         np.arange(y_min, y_max, 0.1))\n",
    "    \n",
    "    # 预测\n",
    "    Z = model.predict(np.c_[xx.ravel(), yy.ravel()])\n",
    "    Z = Z.reshape(xx.shape)\n",
    "    \n",
    "    # 可视化\n",
    "    plt.figure(figsize=(10, 6))\n",
    "    plt.contourf(xx, yy, Z, alpha=0.4)\n",
    "    plt.scatter(X[:, 0], X[:, 1], c=y, alpha=0.8)\n",
    "    plt.title('逻辑回归分类示例')\n",
    "    plt.xlabel('特征1')\n",
    "    plt.ylabel('特征2')\n",
    "    plt.show()\n",
    "\n",
    "if __name__ == \"__main__\":\n",
    "    print(\"=== 线性回归模型演示 ===\")\n",
    "    linear_regression_tutorial()\n",
    "    \n",
    "    print(\"\\n=== 逻辑回归模型演示 ===\")\n",
    "    logistic_regression_tutorial()"
   ]
  }
 ],
 "metadata": {
  "kernelspec": {
   "display_name": "Python 3",
   "language": "python",
   "name": "python3"
  },
  "language_info": {
   "codemirror_mode": {
    "name": "ipython",
    "version": 3
   },
   "file_extension": ".py",
   "mimetype": "text/x-python",
   "name": "python",
   "nbconvert_exporter": "python",
   "pygments_lexer": "ipython3",
   "version": "3.10.6"
  }
 },
 "nbformat": 4,
 "nbformat_minor": 2
}
